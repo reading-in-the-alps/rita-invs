{
 "cells": [
  {
   "cell_type": "code",
   "execution_count": 33,
   "metadata": {},
   "outputs": [],
   "source": [
    "import pandas as pd\n",
    "from django.core.exceptions import ObjectDoesNotExist, MultipleObjectsReturned"
   ]
  },
  {
   "cell_type": "code",
   "execution_count": 2,
   "metadata": {},
   "outputs": [],
   "source": [
    "file = r'../rita_data_ibk/helper_files/Bücherzahl_St. Michaelsburg_Stadtgericht Bruneck.xlsx'"
   ]
  },
  {
   "cell_type": "code",
   "execution_count": 3,
   "metadata": {},
   "outputs": [],
   "source": [
    "df = pd.read_excel(file)"
   ]
  },
  {
   "cell_type": "code",
   "execution_count": 34,
   "metadata": {
    "scrolled": true
   },
   "outputs": [
    {
     "data": {
      "text/html": [
       "<div>\n",
       "<style scoped>\n",
       "    .dataframe tbody tr th:only-of-type {\n",
       "        vertical-align: middle;\n",
       "    }\n",
       "\n",
       "    .dataframe tbody tr th {\n",
       "        vertical-align: top;\n",
       "    }\n",
       "\n",
       "    .dataframe thead th {\n",
       "        text-align: right;\n",
       "    }\n",
       "</style>\n",
       "<table border=\"1\" class=\"dataframe\">\n",
       "  <thead>\n",
       "    <tr style=\"text-align: right;\">\n",
       "      <th></th>\n",
       "      <th>Signatur</th>\n",
       "      <th>Mindestanzahl der Bücher/Bände</th>\n",
       "      <th>Buchart/Titel</th>\n",
       "    </tr>\n",
       "  </thead>\n",
       "  <tbody>\n",
       "    <tr>\n",
       "      <th>0</th>\n",
       "      <td>755</td>\n",
       "      <td>20</td>\n",
       "      <td>Bibel, Predigtsammlungen, Wörterbücher, \"Kinde...</td>\n",
       "    </tr>\n",
       "    <tr>\n",
       "      <th>1</th>\n",
       "      <td>757</td>\n",
       "      <td>2</td>\n",
       "      <td>\"Leben Christi\" (2 Teile), Cochem [?]</td>\n",
       "    </tr>\n",
       "    <tr>\n",
       "      <th>2</th>\n",
       "      <td>760</td>\n",
       "      <td>82</td>\n",
       "      <td>Bibel, Predigtsammlungen, Wörterbuch, Jus Cano...</td>\n",
       "    </tr>\n",
       "    <tr>\n",
       "      <th>3</th>\n",
       "      <td>770</td>\n",
       "      <td>9</td>\n",
       "      <td>\"Ain neue Legend\"\\n\"Vier Judas Piecher\"\\n\"Ain ...</td>\n",
       "    </tr>\n",
       "    <tr>\n",
       "      <th>4</th>\n",
       "      <td>773</td>\n",
       "      <td>2</td>\n",
       "      <td>\"Leben Christi\" (2 Teile), Cochem [?]</td>\n",
       "    </tr>\n",
       "  </tbody>\n",
       "</table>\n",
       "</div>"
      ],
      "text/plain": [
       "  Signatur  Mindestanzahl der Bücher/Bände  \\\n",
       "0      755                              20   \n",
       "1      757                               2   \n",
       "2      760                              82   \n",
       "3      770                               9   \n",
       "4      773                               2   \n",
       "\n",
       "                                       Buchart/Titel  \n",
       "0  Bibel, Predigtsammlungen, Wörterbücher, \"Kinde...  \n",
       "1              \"Leben Christi\" (2 Teile), Cochem [?]  \n",
       "2  Bibel, Predigtsammlungen, Wörterbuch, Jus Cano...  \n",
       "3  \"Ain neue Legend\"\\n\"Vier Judas Piecher\"\\n\"Ain ...  \n",
       "4              \"Leben Christi\" (2 Teile), Cochem [?]  "
      ]
     },
     "execution_count": 34,
     "metadata": {},
     "output_type": "execute_result"
    }
   ],
   "source": [
    "df.head()"
   ]
  },
  {
   "cell_type": "code",
   "execution_count": 39,
   "metadata": {},
   "outputs": [
    {
     "name": "stdout",
     "output_type": "stream",
     "text": [
      "No match for: Verfachbuch St. Michaelsburg 1770, Bl. 197 r-90 v\n",
      "No match for: Verfachbuch St. Michaelsburg 1800, Bl. 362 r-375 v; 381 r - 388 v\n",
      "No match for: Verfachbuch Stadtgericht Bruneck 1755, Bl./Nr.  [ohne Foliierung/Nummerierung nach 93]; 95-97\n",
      "Several matches for: Verfachbuch Stadtgericht Bruneck 1762, Bl./Nr. 74\n",
      "No match for: Verfachbuch Stadtgericht Bruneck 1767, Bl./Nr. [nicht eingebundene Einlage ohne Foliierung/Nummerierung nach Nr. 40]; 45\n",
      "No match for: Verfachbuch Stadtgericht Bruneck 1775, Bl./Nr. 53 [Nr. 53 doppelt vergeben]\n",
      "No match for: Verfachbuch Stadtgericht Bruneck 1775, Bl./Nr. 62; 63 [Nr. 63 doppelt vergeben]\n",
      "Several matches for: Verfachbuch Stadtgericht Bruneck 1783/1784, Abschn. 1784, Bl./Nr. 110\n",
      "Several matches for: Verfachbuch Stadtgericht Bruneck 1793/1794, Abschnitt 1794, Bl./Nr. 108\n"
     ]
    }
   ],
   "source": [
    "for i, row in df.iterrows():\n",
    "    item = None\n",
    "    signatur = \"{}\".format(row['Signatur'])\n",
    "    if signatur.startswith('Verfachbuch'):\n",
    "        try:\n",
    "            item = InventoryEntry.objects.get(inv_signatur__icontains=signatur)\n",
    "        except ObjectDoesNotExist:\n",
    "            print(\"No match for: {}\".format(signatur))\n",
    "        except MultipleObjectsReturned:\n",
    "            print(\"Several matches for: {}\".format(signatur))\n",
    "        if item:\n",
    "            item.mentioned_books_nr = row['Mindestanzahl der Bücher/Bände']\n",
    "            item.save()\n",
    "   "
   ]
  },
  {
   "cell_type": "code",
   "execution_count": 13,
   "metadata": {},
   "outputs": [],
   "source": []
  },
  {
   "cell_type": "code",
   "execution_count": null,
   "metadata": {},
   "outputs": [],
   "source": []
  }
 ],
 "metadata": {
  "kernelspec": {
   "display_name": "Django Shell-Plus",
   "language": "python",
   "name": "django_extensions"
  },
  "language_info": {
   "codemirror_mode": {
    "name": "ipython",
    "version": 3
   },
   "file_extension": ".py",
   "mimetype": "text/x-python",
   "name": "python",
   "nbconvert_exporter": "python",
   "pygments_lexer": "ipython3",
   "version": "3.7.3"
  }
 },
 "nbformat": 4,
 "nbformat_minor": 2
}
