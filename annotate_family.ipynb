{
 "cells": [
  {
   "cell_type": "markdown",
   "metadata": {},
   "source": [
    "# annotate family relations\n",
    "* train a model for family relation types"
   ]
  },
  {
   "cell_type": "code",
   "execution_count": 1,
   "metadata": {},
   "outputs": [],
   "source": [
    "import ast\n",
    "import random\n",
    "from spacytei.train import batch_train"
   ]
  },
  {
   "cell_type": "code",
   "execution_count": 2,
   "metadata": {},
   "outputs": [
    {
     "data": {
      "text/plain": [
       "9791"
      ]
     },
     "execution_count": 2,
     "metadata": {},
     "output_type": "execute_result"
    }
   ],
   "source": [
    "persons = Person.objects.filter(is_related_person__isnull=False)\n",
    "persons.count()"
   ]
  },
  {
   "cell_type": "code",
   "execution_count": null,
   "metadata": {},
   "outputs": [],
   "source": [
    "items = [x.written_name for x in persons]\n",
    "items = sorted(iter(items), key=lambda k: random.random())\n",
    "filename = \"person__related.txt\"\n",
    "with open(filename, 'w', encoding=\"utf-8\") as f:\n",
    "    for x in items:\n",
    "        f.write(\"{}\".format(x) + '\\n')"
   ]
  },
  {
   "cell_type": "code",
   "execution_count": 3,
   "metadata": {},
   "outputs": [],
   "source": [
    "file = \"./training_data/invs_fam.jsonl\""
   ]
  },
  {
   "cell_type": "code",
   "execution_count": 5,
   "metadata": {},
   "outputs": [
    {
     "name": "stdout",
     "output_type": "stream",
     "text": [
      "350\n"
     ]
    },
    {
     "data": {
      "text/plain": [
       "['Agnes Meixnerin (Tochter der Verstorbenen)', {'entities': [[17, 24, 'FAM']]}]"
      ]
     },
     "execution_count": 5,
     "metadata": {},
     "output_type": "execute_result"
    }
   ],
   "source": [
    "with open(file) as f:\n",
    "    TRAIN_DATA = f.readlines()\n",
    "train_data = [ast.literal_eval(x) for x in TRAIN_DATA]\n",
    "print(len(train_data))\n",
    "train_data[4]"
   ]
  },
  {
   "cell_type": "code",
   "execution_count": 6,
   "metadata": {},
   "outputs": [
    {
     "data": {
      "text/plain": [
       "'Tochter'"
      ]
     },
     "execution_count": 6,
     "metadata": {},
     "output_type": "execute_result"
    }
   ],
   "source": [
    "train_data[4][0][17:24]"
   ]
  },
  {
   "cell_type": "code",
   "execution_count": 14,
   "metadata": {},
   "outputs": [
    {
     "name": "stdout",
     "output_type": "stream",
     "text": [
      "Created blank model from 'de'\n",
      "Warning: Unnamed vectors -- this won't allow multiple vectors models to be loaded. (Shape: (0, 0))\n",
      "280 train vs 70 test samples\n",
      "Iteration Number: 0\n",
      "Losses {'ner': 57.807576010540956}\n",
      "Duration: 0:00:12.615114\n",
      "p: 93.75; f: 76.92307692307693; r: 65.21739130434783\n",
      "Saved model to: data\\main_fam\n",
      "######################\n",
      "Iteration Number: 1\n",
      "Losses {'ner': 40.95790779389665}\n",
      "Duration: 0:00:12.413391\n",
      "p: 87.17948717948718; f: 80.0; r: 73.91304347826086\n",
      "Saved model to: data\\main_fam\n",
      "######################\n",
      "Iteration Number: 2\n",
      "Losses {'ner': 39.7699765055019}\n",
      "Duration: 0:00:12.777250\n",
      "p: 87.8048780487805; f: 82.75862068965519; r: 78.26086956521739\n",
      "Saved model to: data\\main_fam\n",
      "######################\n",
      "Iteration Number: 3\n",
      "Losses {'ner': 37.88923923011385}\n",
      "Duration: 0:00:12.839645\n",
      "p: 82.0; f: 85.41666666666666; r: 89.13043478260869\n",
      "Saved model to: data\\main_fam\n",
      "######################\n",
      "Iteration Number: 4\n",
      "Losses {'ner': 34.73160183547021}\n",
      "Duration: 0:00:12.708678\n",
      "p: 94.87179487179486; f: 87.05882352941177; r: 80.43478260869566\n",
      "Saved model to: data\\main_fam\n",
      "######################\n",
      "Iteration Number: 5\n",
      "Losses {'ner': 34.9740281682286}\n",
      "Duration: 0:00:13.113847\n",
      "p: 87.2340425531915; f: 88.17204301075269; r: 89.13043478260869\n",
      "Saved model to: data\\main_fam\n",
      "######################\n",
      "Iteration Number: 6\n",
      "Losses {'ner': 35.63093753388488}\n",
      "Duration: 0:00:13.273529\n",
      "p: 89.13043478260869; f: 89.13043478260869; r: 89.13043478260869\n",
      "Saved model to: data\\main_fam\n",
      "######################\n",
      "Iteration Number: 7\n",
      "Losses {'ner': 33.846115772218134}\n",
      "Duration: 0:00:15.198139\n",
      "p: 86.0; f: 89.58333333333334; r: 93.47826086956522\n",
      "Saved model to: data\\main_fam\n",
      "######################\n",
      "######################\n",
      "######################\n",
      "######################\n",
      "Overal duration: 0:01:49.650420\n",
      "model with f1 score: 89.58333333333334 saved to location: data\\main_fam\n"
     ]
    },
    {
     "data": {
      "text/plain": [
       "<spacy.lang.de.German at 0x204136cca90>"
      ]
     },
     "execution_count": 14,
     "metadata": {},
     "output_type": "execute_result"
    }
   ],
   "source": [
    "batch_train(train_data=train_data, output_dir='./data/main_fam', new_label='FAM', eval_split=0.2, n_iter=8)"
   ]
  },
  {
   "cell_type": "code",
   "execution_count": 15,
   "metadata": {},
   "outputs": [],
   "source": [
    "samples = [\n",
    "    \"Maria Hueberin (Tochter des Michael Hueber und der Ursula Mayrin; Nichte des Verstorbenen)\",\n",
    "    \"Veit [Vitus] Schiferegger [Schifferegger] (Sohn des Verstorbenen)\",\n",
    "    \"Johann Kofler [Hans Kofler/Joseph Kofler?] (Tischlermeister), Bruneck, (Kurator des Andre Papprian, des Johann Papprian [Hans Papprian], der Maria Papprianin und der Magdalena Papprianin)\",\n",
    "    \"Maria Göllerin (abwesende Tochter der Maria Aichnerin, einer Halbschwester des Verstorbenen)\",\n",
    "]"
   ]
  },
  {
   "cell_type": "code",
   "execution_count": 16,
   "metadata": {},
   "outputs": [],
   "source": [
    "import spacy"
   ]
  },
  {
   "cell_type": "code",
   "execution_count": 17,
   "metadata": {},
   "outputs": [],
   "source": [
    "nlp = spacy.load(r\"./data/main_fam\")"
   ]
  },
  {
   "cell_type": "code",
   "execution_count": 18,
   "metadata": {},
   "outputs": [
    {
     "name": "stdout",
     "output_type": "stream",
     "text": [
      "Nichte\n",
      "Sohn\n"
     ]
    }
   ],
   "source": [
    "for x in samples:\n",
    "    doc = nlp(x)\n",
    "    ents = doc.ents\n",
    "    for ent in ents:\n",
    "        print(ent)"
   ]
  },
  {
   "cell_type": "code",
   "execution_count": null,
   "metadata": {},
   "outputs": [],
   "source": [
    "fam_scheme, _ = SkosCollection.objects.get_or_create(name=\"Familiäre Beziehungen\")"
   ]
  },
  {
   "cell_type": "code",
   "execution_count": null,
   "metadata": {},
   "outputs": [],
   "source": [
    "for x in persons:\n",
    "    doc = nlp(x.written_name)\n",
    "    ents = doc.ents\n",
    "    if len(ents) == 1:\n",
    "        fam_rel_type = None\n",
    "        perper = None\n",
    "        try:\n",
    "            inv = x.is_related_person.all()[0]\n",
    "        except IndexError:\n",
    "            inv = None\n",
    "        try:\n",
    "            main_person = inv.main_person.all()[0]\n",
    "        except IndexError:\n",
    "            main_person = None\n",
    "        if main_person is not None:\n",
    "            fam_rel_type, _ = SkosConcept.objects.get_or_create(pref_label=\"{}\".format(ents[0]))\n",
    "            fam_rel_type.collection.add(fam_scheme)\n",
    "            perper, _ = PersonPerson.objects.get_or_create(\n",
    "                source=x,\n",
    "                target=main_person,\n",
    "                rel_type=fam_rel_type\n",
    "            )\n",
    "            perper.save()\n",
    "    else:\n",
    "        pass"
   ]
  },
  {
   "cell_type": "code",
   "execution_count": null,
   "metadata": {},
   "outputs": [],
   "source": [
    "# PersonPerson.objects.all().count()"
   ]
  },
  {
   "cell_type": "code",
   "execution_count": null,
   "metadata": {},
   "outputs": [],
   "source": [
    "# PersonPerson.objects.all().delete()"
   ]
  },
  {
   "cell_type": "code",
   "execution_count": null,
   "metadata": {},
   "outputs": [],
   "source": []
  }
 ],
 "metadata": {
  "kernelspec": {
   "display_name": "Django Shell-Plus",
   "language": "python",
   "name": "django_extensions"
  },
  "language_info": {
   "codemirror_mode": {
    "name": "ipython",
    "version": 3
   },
   "file_extension": ".py",
   "mimetype": "text/x-python",
   "name": "python",
   "nbconvert_exporter": "python",
   "pygments_lexer": "ipython3",
   "version": "3.7.3"
  }
 },
 "nbformat": 4,
 "nbformat_minor": 2
}
