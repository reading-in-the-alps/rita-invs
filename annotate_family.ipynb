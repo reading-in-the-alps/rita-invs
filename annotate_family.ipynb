{
 "cells": [
  {
   "cell_type": "markdown",
   "metadata": {},
   "source": [
    "# annotate family relations\n",
    "* train a model for family relation types"
   ]
  },
  {
   "cell_type": "code",
   "execution_count": null,
   "metadata": {},
   "outputs": [],
   "source": [
    "import ast\n",
    "import random\n",
    "from spacytei.train import batch_train"
   ]
  },
  {
   "cell_type": "code",
   "execution_count": null,
   "metadata": {},
   "outputs": [],
   "source": [
    "persons = Person.objects.filter(is_related_person__isnull=False)\n",
    "persons.count()"
   ]
  },
  {
   "cell_type": "code",
   "execution_count": null,
   "metadata": {},
   "outputs": [],
   "source": [
    "items = [x.written_name for x in persons]\n",
    "items = sorted(iter(items), key=lambda k: random.random())\n",
    "filename = \"person__related.txt\"\n",
    "with open(filename, 'w', encoding=\"utf-8\") as f:\n",
    "    for x in items:\n",
    "        f.write(\"{}\".format(x) + '\\n')"
   ]
  },
  {
   "cell_type": "code",
   "execution_count": null,
   "metadata": {},
   "outputs": [],
   "source": [
    "file = \"./training_data/invs_fam.jsonl\""
   ]
  },
  {
   "cell_type": "code",
   "execution_count": null,
   "metadata": {},
   "outputs": [],
   "source": [
    "with open(file) as f:\n",
    "    TRAIN_DATA = f.readlines()\n",
    "train_data = [ast.literal_eval(x) for x in TRAIN_DATA]\n",
    "print(len(train_data))\n",
    "train_data[4]"
   ]
  },
  {
   "cell_type": "code",
   "execution_count": null,
   "metadata": {},
   "outputs": [],
   "source": [
    "batch_train(train_data=train_data, output_dir='./data/main_fam', new_label='FAM', eval_split=0.2, n_iter=8)"
   ]
  },
  {
   "cell_type": "code",
   "execution_count": null,
   "metadata": {},
   "outputs": [],
   "source": [
    "samples = [\n",
    "    \"Maria Hueberin (Tochter des Michael Hueber und der Ursula Mayrin; Nichte des Verstorbenen)\",\n",
    "    \"Veit [Vitus] Schiferegger [Schifferegger] (Sohn des Verstorbenen)\",\n",
    "    \"Johann Kofler [Hans Kofler/Joseph Kofler?] (Tischlermeister), Bruneck, (Kurator des Andre Papprian, des Johann Papprian [Hans Papprian], der Maria Papprianin und der Magdalena Papprianin)\",\n",
    "    \"Maria Göllerin (abwesende Tochter der Maria Aichnerin, einer Halbschwester des Verstorbenen)\",\n",
    "]"
   ]
  },
  {
   "cell_type": "code",
   "execution_count": null,
   "metadata": {},
   "outputs": [],
   "source": [
    "import spacy"
   ]
  },
  {
   "cell_type": "code",
   "execution_count": null,
   "metadata": {},
   "outputs": [],
   "source": [
    "nlp = spacy.load(r\"./data/main_fam\")"
   ]
  },
  {
   "cell_type": "code",
   "execution_count": null,
   "metadata": {},
   "outputs": [],
   "source": [
    "fam_scheme, _ = SkosCollection.objects.get_or_create(name=\"Familiäre Beziehungen\")"
   ]
  },
  {
   "cell_type": "code",
   "execution_count": null,
   "metadata": {},
   "outputs": [],
   "source": [
    "for x in persons:\n",
    "    doc = nlp(x.written_name)\n",
    "    ents = doc.ents\n",
    "    if len(ents) == 1:\n",
    "        fam_rel_type = None\n",
    "        perper = None\n",
    "        try:\n",
    "            inv = x.is_related_person.all()[0]\n",
    "        except IndexError:\n",
    "            inv = None\n",
    "        try:\n",
    "            main_person = inv.main_person.all()[0]\n",
    "        except IndexError:\n",
    "            main_person = None\n",
    "        if main_person is not None:\n",
    "            fam_rel_type, _ = SkosConcept.objects.get_or_create(pref_label=\"{}\".format(ents[0]))\n",
    "            fam_rel_type.collection.add(fam_scheme)\n",
    "            perper, _ = PersonPerson.objects.get_or_create(\n",
    "                source=x,\n",
    "                target=main_person,\n",
    "                rel_type=fam_rel_type\n",
    "            )\n",
    "            perper.save()\n",
    "    else:\n",
    "        pass"
   ]
  },
  {
   "cell_type": "code",
   "execution_count": null,
   "metadata": {},
   "outputs": [],
   "source": [
    "# PersonPerson.objects.all().count()"
   ]
  },
  {
   "cell_type": "code",
   "execution_count": null,
   "metadata": {},
   "outputs": [],
   "source": [
    "# PersonPerson.objects.all().delete()"
   ]
  },
  {
   "cell_type": "code",
   "execution_count": null,
   "metadata": {},
   "outputs": [],
   "source": []
  }
 ],
 "metadata": {
  "kernelspec": {
   "display_name": "Django Shell-Plus",
   "language": "python",
   "name": "django_extensions"
  },
  "language_info": {
   "codemirror_mode": {
    "name": "ipython",
    "version": 3
   },
   "file_extension": ".py",
   "mimetype": "text/x-python",
   "name": "python",
   "nbconvert_exporter": "python",
   "pygments_lexer": "ipython3",
   "version": "3.7.3"
  }
 },
 "nbformat": 4,
 "nbformat_minor": 2
}
