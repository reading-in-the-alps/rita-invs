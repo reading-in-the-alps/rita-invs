{
 "cells": [
  {
   "cell_type": "markdown",
   "metadata": {},
   "source": [
    "# enriched (main) Persons with Job\n",
    "* write Persons (main and male) to .txt file\n",
    "* use this file to annotate Jobs within prodigy\n",
    "* train a job-model\n",
    "* run it and annotate Persons"
   ]
  },
  {
   "cell_type": "code",
   "execution_count": null,
   "metadata": {},
   "outputs": [],
   "source": [
    "import ast\n",
    "import random\n",
    "from spacytei.train import batch_train"
   ]
  },
  {
   "cell_type": "code",
   "execution_count": null,
   "metadata": {},
   "outputs": [],
   "source": [
    "male_main_person = Person.objects.filter(gender='männlich').filter(is_main_person__isnull=False)\n",
    "male_main_person.count()"
   ]
  },
  {
   "cell_type": "code",
   "execution_count": null,
   "metadata": {},
   "outputs": [],
   "source": [
    "items = [x.written_name for x in male_main_person]"
   ]
  },
  {
   "cell_type": "code",
   "execution_count": null,
   "metadata": {},
   "outputs": [],
   "source": [
    "items = sorted(iter(items), key=lambda k: random.random())"
   ]
  },
  {
   "cell_type": "code",
   "execution_count": null,
   "metadata": {},
   "outputs": [],
   "source": [
    "filename = \"person__male_main.txt\""
   ]
  },
  {
   "cell_type": "code",
   "execution_count": null,
   "metadata": {},
   "outputs": [],
   "source": [
    "with open(filename, 'w', encoding=\"utf-8\") as f:\n",
    "    for x in items:\n",
    "        f.write(\"{}\".format(x) + '\\n')"
   ]
  },
  {
   "cell_type": "code",
   "execution_count": null,
   "metadata": {},
   "outputs": [],
   "source": [
    "file = r\"C:\\Users\\pandorfer\\Documents\\Redmine\\prodigy\\invs\\invs_jobs.jsonl\""
   ]
  },
  {
   "cell_type": "code",
   "execution_count": null,
   "metadata": {},
   "outputs": [],
   "source": [
    "with open(file) as f:\n",
    "    TRAIN_DATA = f.readlines()"
   ]
  },
  {
   "cell_type": "code",
   "execution_count": null,
   "metadata": {},
   "outputs": [],
   "source": [
    "train_data = [ast.literal_eval(x) for x in TRAIN_DATA]\n",
    "len(train_data)\n",
    "train_data[4]"
   ]
  },
  {
   "cell_type": "code",
   "execution_count": null,
   "metadata": {},
   "outputs": [],
   "source": [
    "batch_train(train_data=train_data, output_dir='./data/jobs_model', new_label='JOB', eval_split=0.2, n_iter=8)"
   ]
  },
  {
   "cell_type": "code",
   "execution_count": null,
   "metadata": {},
   "outputs": [],
   "source": [
    "import spacy"
   ]
  },
  {
   "cell_type": "code",
   "execution_count": null,
   "metadata": {},
   "outputs": [],
   "source": [
    "nlp = spacy.load(r\"./data/jobs_model\")"
   ]
  },
  {
   "cell_type": "code",
   "execution_count": null,
   "metadata": {},
   "outputs": [],
   "source": [
    "job_scheme, _ = SkosCollection.objects.get_or_create(name=\"Berufe\")"
   ]
  },
  {
   "cell_type": "code",
   "execution_count": null,
   "metadata": {},
   "outputs": [],
   "source": [
    "for x in male_main_person:\n",
    "    doc = nlp(\"{}\".format(x.written_name))\n",
    "    for ent in doc.ents:\n",
    "        if ent.label_ == \"JOB\":\n",
    "            job, _ = SkosConcept.objects.get_or_create(\n",
    "                pref_label=\"{}\".format(ent.text)\n",
    "            )\n",
    "            job.collection.add(job_scheme)\n",
    "#             print(ent.text)\n",
    "            x.profession.add(job)\n",
    "            break\n",
    "    x.save()"
   ]
  },
  {
   "cell_type": "markdown",
   "metadata": {},
   "source": [
    "### remarks:\n",
    "the code/model above produces a lot of false positivs (all in all 420 Concepts). Ideally one could define a threashold of some NER confidence score but such thing does not exist [see this issue](https://github.com/explosion/spaCy/issues/881). Potential work arounds could be\n",
    "1. only run on male main persons\n",
    "2. manually go to the list of all 'professions' and delete wrong ones\n",
    "3. use the 'professions' manually annotated and annotate Jobs by simple string match\n",
    "4. combination of the two options\n",
    "\n",
    "#### tryouts\n",
    "* delete all Jobs and only annotate male main persons"
   ]
  },
  {
   "cell_type": "code",
   "execution_count": null,
   "metadata": {},
   "outputs": [],
   "source": [
    "SkosConcept.objects.filter(collection__name=\"Berufe\").delete()"
   ]
  },
  {
   "cell_type": "code",
   "execution_count": null,
   "metadata": {},
   "outputs": [],
   "source": [
    "for x in Person.objects.filter(gender='männlich').filter(is_main_person__isnull=False):\n",
    "    doc = nlp(\"{}\".format(x.written_name))\n",
    "    for ent in doc.ents:\n",
    "        if ent.label_ == \"JOB\":\n",
    "            job, _ = SkosConcept.objects.get_or_create(\n",
    "                pref_label=\"{}\".format(ent.text)\n",
    "            )\n",
    "            job.collection.add(job_scheme)\n",
    "#             print(ent.text)\n",
    "            x.profession.add(job)\n",
    "            break\n",
    "    x.save()"
   ]
  },
  {
   "cell_type": "markdown",
   "metadata": {},
   "source": [
    "#### annotating only male main persons\n",
    "* yields much better results\n",
    "* therefore it make sense to train an additional model for non-main and non-adm persons"
   ]
  },
  {
   "cell_type": "code",
   "execution_count": null,
   "metadata": {},
   "outputs": [],
   "source": [
    "related_person = Person.objects.filter(gender='männlich').filter(is_related_person__isnull=False)\n",
    "related_person.count()"
   ]
  },
  {
   "cell_type": "code",
   "execution_count": null,
   "metadata": {},
   "outputs": [],
   "source": [
    "items = [x.written_name for x in related_person]\n",
    "items = sorted(iter(items), key=lambda k: random.random())\n",
    "filename = \"person__male_related.txt\"\n",
    "with open(filename, 'w', encoding=\"utf-8\") as f:\n",
    "    for x in items:\n",
    "        f.write(\"{}\".format(x) + '\\n')"
   ]
  },
  {
   "cell_type": "code",
   "execution_count": null,
   "metadata": {},
   "outputs": [],
   "source": [
    "file = r\"C:\\Users\\pandorfer\\Documents\\Redmine\\prodigy\\invs\\invs_jobs_related.jsonl\"\n",
    "with open(file) as f:\n",
    "    TRAIN_DATA = f.readlines()\n",
    "train_data = [ast.literal_eval(x) for x in TRAIN_DATA]\n",
    "len(train_data)\n",
    "train_data[4]"
   ]
  },
  {
   "cell_type": "code",
   "execution_count": null,
   "metadata": {},
   "outputs": [],
   "source": [
    "batch_train(train_data=train_data, output_dir='./data/jobs_related_model', new_label='JOB', eval_split=0.2, n_iter=8)"
   ]
  },
  {
   "cell_type": "code",
   "execution_count": null,
   "metadata": {},
   "outputs": [],
   "source": [
    "nlp = spacy.load(r\"./data/jobs_related_model\")"
   ]
  },
  {
   "cell_type": "code",
   "execution_count": null,
   "metadata": {},
   "outputs": [],
   "source": [
    "for x in related_person:\n",
    "    doc = nlp(\"{}\".format(x.written_name))\n",
    "    for ent in doc.ents:\n",
    "        if ent.label_ == \"JOB\":\n",
    "            job, _ = SkosConcept.objects.get_or_create(\n",
    "                pref_label=\"{}\".format(ent.text)\n",
    "            )\n",
    "            job.collection.add(job_scheme)\n",
    "#             print(ent.text)\n",
    "            x.profession.add(job)\n",
    "            break\n",
    "    x.save()"
   ]
  },
  {
   "cell_type": "code",
   "execution_count": null,
   "metadata": {},
   "outputs": [],
   "source": []
  }
 ],
 "metadata": {
  "kernelspec": {
   "display_name": "Django Shell-Plus",
   "language": "python",
   "name": "django_extensions"
  },
  "language_info": {
   "codemirror_mode": {
    "name": "ipython",
    "version": 3
   },
   "file_extension": ".py",
   "mimetype": "text/x-python",
   "name": "python",
   "nbconvert_exporter": "python",
   "pygments_lexer": "ipython3",
   "version": "3.7.3"
  }
 },
 "nbformat": 4,
 "nbformat_minor": 2
}
