{
 "cells": [
  {
   "cell_type": "code",
   "execution_count": 3,
   "metadata": {},
   "outputs": [],
   "source": [
    "import lxml.etree as ET\n",
    "from spacytei.tei import TeiReader"
   ]
  },
  {
   "cell_type": "code",
   "execution_count": 4,
   "metadata": {},
   "outputs": [],
   "source": [
    "certainty_col, _ = SkosCollection.objects.get_or_create(name='certainty')"
   ]
  },
  {
   "cell_type": "code",
   "execution_count": 5,
   "metadata": {},
   "outputs": [],
   "source": [
    "file = \"http://127.0.0.1:8080/exist/restxq/rita/api/collections/indices/listbibl.xml\""
   ]
  },
  {
   "cell_type": "code",
   "execution_count": 6,
   "metadata": {},
   "outputs": [
    {
     "data": {
      "text/plain": [
       "{'tei': 'http://www.tei-c.org/ns/1.0'}"
      ]
     },
     "execution_count": 6,
     "metadata": {},
     "output_type": "execute_result"
    }
   ],
   "source": [
    "doc = TeiReader(file)\n",
    "ns_tei = doc.ns_tei\n",
    "ns_tei"
   ]
  },
  {
   "cell_type": "code",
   "execution_count": 7,
   "metadata": {
    "scrolled": false
   },
   "outputs": [],
   "source": [
    "for x in doc.any_xpath('//tei:bibl'):\n",
    "    xml_id = x.xpath('./@xml:id', namespaces=ns_tei)[0]\n",
    "    temp_work, _ = Work.objects.get_or_create(legacy_id=xml_id)\n",
    "    try:\n",
    "        title = x.xpath('./tei:title/text()', namespaces=ns_tei)[0]\n",
    "    except IndexError:\n",
    "        title = 'kein Titel'\n",
    "    try:\n",
    "        cer = x.xpath('./tei:title/@cer', namespaces=ns_tei)[0]\n",
    "    except IndexError:\n",
    "        cer = 'keine Angaben'\n",
    "    cer_obj, _ = SkosConcept.objects.get_or_create(pref_label=cer)\n",
    "    cer_obj.collection.add(certainty_col)\n",
    "    temp_work.title = title\n",
    "    temp_work.title_certainty = cer_obj\n",
    "    creator_objects = []\n",
    "    creators = x.xpath('./tei:*[name()=\"author\" or name()=\"publisher\"]', namespaces=ns_tei)\n",
    "    if len(creators) == 0:\n",
    "        pass\n",
    "    else:\n",
    "        for creator in creators:\n",
    "            if creator.text is not None:\n",
    "                temp_creator, _ = Creator.objects.get_or_create(\n",
    "                    name=creator.text\n",
    "                )\n",
    "                try:\n",
    "                    auth_cer = creator.xpath('./@cer')[0]\n",
    "                except IndexError:\n",
    "                    auth_cer = None\n",
    "                if auth_cer is not None:\n",
    "                    cer_obj, _ = SkosConcept.objects.get_or_create(pref_label=auth_cer)\n",
    "                    cer_obj.collection.add(certainty_col)\n",
    "                    temp_creator.creator_certainty = cer_obj\n",
    "                try:\n",
    "                    norm_id = creator.xpath('./@ref')[0]\n",
    "                except IndexError:\n",
    "                    norm_id = None\n",
    "                if norm_id is not None:\n",
    "                    temp_creator.normdata_id = norm_id\n",
    "                temp_creator.save()\n",
    "                creator_objects.append(temp_creator)\n",
    "    temp_work.creator.set(creator_objects)\n",
    "    temp_work.save()\n",
    "    exemp = x.xpath('./tei:exemplar', namespaces=ns_tei)\n",
    "    if len(exemp) > 0:\n",
    "        for ex in exemp:\n",
    "            if ex.text:\n",
    "                link, _ = Exemplar.objects.get_or_create(normdata_id=ex.text)\n",
    "                try:\n",
    "                    cer = ex.attrib['cer']\n",
    "                except KeyError:\n",
    "                    cer = 'keine Angaben'\n",
    "                cer_obj, _ = SkosConcept.objects.get_or_create(pref_label=cer)\n",
    "                cer_obj.collection.add(certainty_col)\n",
    "                link.certainty = cer_obj\n",
    "                link.related_work = temp_work\n",
    "                link.save()\n",
    "                 "
   ]
  },
  {
   "cell_type": "code",
   "execution_count": null,
   "metadata": {},
   "outputs": [],
   "source": [
    "# WorkExample.objects.all().delete()"
   ]
  },
  {
   "cell_type": "code",
   "execution_count": 2,
   "metadata": {},
   "outputs": [
    {
     "data": {
      "text/plain": [
       "(2458, {'books.Exemplar': 1229, 'idprovider.IdProvider': 1229})"
      ]
     },
     "execution_count": 2,
     "metadata": {},
     "output_type": "execute_result"
    }
   ],
   "source": [
    "Exemplar.objects.all().delete()"
   ]
  },
  {
   "cell_type": "code",
   "execution_count": null,
   "metadata": {},
   "outputs": [],
   "source": []
  }
 ],
 "metadata": {
  "kernelspec": {
   "display_name": "Django Shell-Plus",
   "language": "python",
   "name": "django_extensions"
  },
  "language_info": {
   "codemirror_mode": {
    "name": "ipython",
    "version": 3
   },
   "file_extension": ".py",
   "mimetype": "text/x-python",
   "name": "python",
   "nbconvert_exporter": "python",
   "pygments_lexer": "ipython3",
   "version": "3.7.3"
  }
 },
 "nbformat": 4,
 "nbformat_minor": 2
}
