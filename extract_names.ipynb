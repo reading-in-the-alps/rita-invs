{
 "cells": [
  {
   "cell_type": "markdown",
   "metadata": {},
   "source": [
    "# Add `forename` and `name` properties to `Person`"
   ]
  },
  {
   "cell_type": "code",
   "execution_count": null,
   "metadata": {},
   "outputs": [],
   "source": [
    "import ast\n",
    "import spacy\n",
    "from spacytei.train import batch_train"
   ]
  },
  {
   "cell_type": "markdown",
   "metadata": {},
   "source": [
    "## load trainings material\n",
    "\n",
    "* annotations done by Martin Kirnbauer\n",
    "* using prodigy"
   ]
  },
  {
   "cell_type": "code",
   "execution_count": null,
   "metadata": {},
   "outputs": [],
   "source": [
    "file = r\"C:\\Users\\pandorfer\\Documents\\Redmine\\rita_project\\vfbr\\data\\samples\\samples_names.jsonl\""
   ]
  },
  {
   "cell_type": "code",
   "execution_count": null,
   "metadata": {},
   "outputs": [],
   "source": [
    "with open(file) as f:\n",
    "    TRAIN_DATA = f.readlines()"
   ]
  },
  {
   "cell_type": "code",
   "execution_count": null,
   "metadata": {},
   "outputs": [],
   "source": [
    "train_data = [ast.literal_eval(x) for x in TRAIN_DATA]"
   ]
  },
  {
   "cell_type": "markdown",
   "metadata": {},
   "source": [
    "## data transformation\n",
    "\n",
    "* unfortunately prodigies native data output can't be used for training directly\n",
    "* some transformation is needed"
   ]
  },
  {
   "cell_type": "code",
   "execution_count": null,
   "metadata": {},
   "outputs": [],
   "source": [
    "def extract_ents(spans):\n",
    "    ents = {\"entities\": []}\n",
    "    for x in spans:\n",
    "        ents[\"entities\"].append((x['start'], x['end'], x['label']))\n",
    "    return ents"
   ]
  },
  {
   "cell_type": "code",
   "execution_count": null,
   "metadata": {},
   "outputs": [],
   "source": [
    "new_train_data = [((x['text']), extract_ents(x['spans'])) for x in train_data]\n",
    "new_train_data[4]"
   ]
  },
  {
   "cell_type": "markdown",
   "metadata": {},
   "source": [
    "## train a new model\n",
    "\n",
    "* with label type `VN`"
   ]
  },
  {
   "cell_type": "code",
   "execution_count": null,
   "metadata": {
    "scrolled": true
   },
   "outputs": [],
   "source": [
    "batch_train(train_data=new_train_data, output_dir='./data/names_model', new_label='VN', eval_split=0.1, n_iter=10)"
   ]
  },
  {
   "cell_type": "markdown",
   "metadata": {},
   "source": [
    "# annotate Persons\n",
    "\n",
    "## forenames"
   ]
  },
  {
   "cell_type": "code",
   "execution_count": null,
   "metadata": {},
   "outputs": [],
   "source": [
    "nlp = spacy.load(r\"./data/names_model\")"
   ]
  },
  {
   "cell_type": "code",
   "execution_count": null,
   "metadata": {},
   "outputs": [],
   "source": [
    "no_vn = Person.objects.filter(forename=\"\")\n",
    "no_vn.count()"
   ]
  },
  {
   "cell_type": "code",
   "execution_count": null,
   "metadata": {},
   "outputs": [],
   "source": [
    "for x in no_vn:\n",
    "    doc = nlp(\"{}\".format(x.written_name))\n",
    "    for vn in doc.ents[:1]:\n",
    "        if vn.label_ == \"VN\":\n",
    "            x.forename = \"{}\".format(vn.text)\n",
    "    x.save()"
   ]
  },
  {
   "cell_type": "markdown",
   "metadata": {},
   "source": [
    "## surnames"
   ]
  },
  {
   "cell_type": "code",
   "execution_count": null,
   "metadata": {
    "scrolled": true
   },
   "outputs": [],
   "source": [
    "batch_train(train_data=new_train_data, output_dir='./data/names_model', new_label='NN', eval_split=0.1, n_iter=10)"
   ]
  },
  {
   "cell_type": "code",
   "execution_count": null,
   "metadata": {},
   "outputs": [],
   "source": [
    "nlp = spacy.load(r\"./data/names_model\")"
   ]
  },
  {
   "cell_type": "code",
   "execution_count": null,
   "metadata": {},
   "outputs": [],
   "source": [
    "no_nn = Person.objects.filter(name=\"\")\n",
    "no_nn.count()"
   ]
  },
  {
   "cell_type": "code",
   "execution_count": null,
   "metadata": {},
   "outputs": [],
   "source": [
    "for x in no_nn:\n",
    "    doc = nlp(\"{}\".format(x.written_name))\n",
    "    for ent in doc.ents[1:2]:\n",
    "        if ent.label_ == \"NN\":\n",
    "#             print(ent.text)\n",
    "            x.name = \"{}\".format(ent.text)\n",
    "    x.save()"
   ]
  },
  {
   "cell_type": "markdown",
   "metadata": {},
   "source": [
    "## surnames part II\n",
    "* try to get (even) better results with a new model, trained on 742 samples, validated against 82\n",
    "* accuracy 0.96"
   ]
  },
  {
   "cell_type": "code",
   "execution_count": null,
   "metadata": {},
   "outputs": [],
   "source": [
    "nlp = spacy.load(r\"C:\\Users\\pandorfer\\Documents\\Redmine\\prodigy\\invs\\invs_nn\")"
   ]
  },
  {
   "cell_type": "code",
   "execution_count": null,
   "metadata": {},
   "outputs": [],
   "source": []
  }
 ],
 "metadata": {
  "kernelspec": {
   "display_name": "Django Shell-Plus",
   "language": "python",
   "name": "django_extensions"
  },
  "language_info": {
   "codemirror_mode": {
    "name": "ipython",
    "version": 3
   },
   "file_extension": ".py",
   "mimetype": "text/x-python",
   "name": "python",
   "nbconvert_exporter": "python",
   "pygments_lexer": "ipython3",
   "version": "3.7.3"
  }
 },
 "nbformat": 4,
 "nbformat_minor": 2
}
