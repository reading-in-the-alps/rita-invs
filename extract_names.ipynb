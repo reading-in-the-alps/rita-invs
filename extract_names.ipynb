{
 "cells": [
  {
   "cell_type": "markdown",
   "metadata": {},
   "source": [
    "# Add `forename`, `name`, and `gender` properties to `Person`"
   ]
  },
  {
   "cell_type": "code",
   "execution_count": 4,
   "metadata": {},
   "outputs": [
    {
     "data": {
      "text/plain": [
       "'2.0.18'"
      ]
     },
     "execution_count": 4,
     "metadata": {},
     "output_type": "execute_result"
    }
   ],
   "source": [
    "import ast\n",
    "import spacy\n",
    "from spacytei.train import batch_train\n",
    "spacy.__version__"
   ]
  },
  {
   "cell_type": "markdown",
   "metadata": {},
   "source": [
    "## load trainings material\n",
    "\n",
    "* annotations done by Peter Andorfer\n",
    "* using prodigy"
   ]
  },
  {
   "cell_type": "code",
   "execution_count": 5,
   "metadata": {},
   "outputs": [],
   "source": [
    "file = \"./training_data/invs_vn.jsonl\""
   ]
  },
  {
   "cell_type": "code",
   "execution_count": 6,
   "metadata": {},
   "outputs": [],
   "source": [
    "with open(file) as f:\n",
    "    TRAIN_DATA = f.readlines()"
   ]
  },
  {
   "cell_type": "code",
   "execution_count": 7,
   "metadata": {},
   "outputs": [
    {
     "data": {
      "text/plain": [
       "['Pater Mayr Ampach [Mayr am Bach] (Webermeister), Bruneck, (Zeuge)',\n",
       " {'entities': [[0, 5, 'VN']]}]"
      ]
     },
     "execution_count": 7,
     "metadata": {},
     "output_type": "execute_result"
    }
   ],
   "source": [
    "train_data = [ast.literal_eval(x) for x in TRAIN_DATA]\n",
    "train_data[4]"
   ]
  },
  {
   "cell_type": "markdown",
   "metadata": {},
   "source": [
    "## train a new model\n",
    "\n",
    "* with label type `VN`"
   ]
  },
  {
   "cell_type": "code",
   "execution_count": 8,
   "metadata": {
    "scrolled": true
   },
   "outputs": [
    {
     "name": "stdout",
     "output_type": "stream",
     "text": [
      "Created blank model from 'de'\n",
      "Warning: Unnamed vectors -- this won't allow multiple vectors models to be loaded. (Shape: (0, 0))\n",
      "226 train vs 97 test samples\n",
      "Iteration Number: 0\n",
      "Losses {'ner': 50.22393727048257}\n",
      "Duration: 0:00:10.318900\n",
      "p: 90.72164948453609; f: 91.19170984455958; r: 91.66666666666666\n",
      "Saved model to: data\\names_model_vn\n",
      "######################\n",
      "Iteration Number: 1\n",
      "Losses {'ner': 32.54218516191098}\n",
      "Duration: 0:00:10.765923\n",
      "p: 94.79166666666666; f: 94.79166666666666; r: 94.79166666666666\n",
      "Saved model to: data\\names_model_vn\n",
      "######################\n",
      "Iteration Number: 2\n",
      "Losses {'ner': 31.00159087994206}\n",
      "Duration: 0:00:11.516956\n",
      "p: 87.62886597938144; f: 88.08290155440415; r: 88.54166666666666\n",
      "######################\n",
      "Iteration Number: 3\n",
      "Losses {'ner': 30.529981183131582}\n",
      "Duration: 0:00:11.367421\n",
      "p: 94.31818181818183; f: 90.21739130434783; r: 86.45833333333334\n",
      "######################\n",
      "Iteration Number: 4\n",
      "Losses {'ner': 29.18159619653817}\n",
      "Duration: 0:00:11.275460\n",
      "p: 90.72164948453609; f: 91.19170984455958; r: 91.66666666666666\n",
      "######################\n",
      "Iteration Number: 5\n",
      "Losses {'ner': 31.469247613423555}\n",
      "Duration: 0:00:11.571451\n",
      "p: 93.75; f: 93.75; r: 93.75\n",
      "######################\n",
      "Iteration Number: 6\n",
      "Losses {'ner': 28.605270917092582}\n",
      "Duration: 0:00:12.116586\n",
      "p: 93.93939393939394; f: 95.38461538461539; r: 96.875\n",
      "Saved model to: data\\names_model_vn\n",
      "######################\n",
      "Iteration Number: 7\n",
      "Losses {'ner': 29.54511795246255}\n",
      "Duration: 0:00:11.390040\n",
      "p: 96.875; f: 96.875; r: 96.875\n",
      "Saved model to: data\\names_model_vn\n",
      "######################\n",
      "######################\n",
      "######################\n",
      "######################\n",
      "Overal duration: 0:01:36.174995\n",
      "model with f1 score: 96.875 saved to location: data\\names_model_vn\n"
     ]
    },
    {
     "data": {
      "text/plain": [
       "<spacy.lang.de.German at 0x1acceb3f048>"
      ]
     },
     "execution_count": 8,
     "metadata": {},
     "output_type": "execute_result"
    }
   ],
   "source": [
    "batch_train(train_data=train_data, output_dir='./data/names_model_vn', new_label='VN', eval_split=0.3, n_iter=8)"
   ]
  },
  {
   "cell_type": "markdown",
   "metadata": {},
   "source": [
    "# annotate Persons\n",
    "\n",
    "## forenames"
   ]
  },
  {
   "cell_type": "code",
   "execution_count": 9,
   "metadata": {},
   "outputs": [],
   "source": [
    "nlp = spacy.load(r\"./data/names_model_vn\")"
   ]
  },
  {
   "cell_type": "code",
   "execution_count": 10,
   "metadata": {},
   "outputs": [
    {
     "data": {
      "text/plain": [
       "16163"
      ]
     },
     "execution_count": 10,
     "metadata": {},
     "output_type": "execute_result"
    }
   ],
   "source": [
    "no_vn = Person.objects.filter(forename=\"\")\n",
    "no_vn.count()"
   ]
  },
  {
   "cell_type": "code",
   "execution_count": 11,
   "metadata": {},
   "outputs": [],
   "source": [
    "for x in Person.objects.all():\n",
    "    doc = nlp(\"{}\".format(x.written_name))\n",
    "    for vn in doc.ents[:1]:\n",
    "        if vn.label_ == \"VN\":\n",
    "            x.forename = \"{}\".format(vn.text)\n",
    "            break\n",
    "    x.save()"
   ]
  },
  {
   "cell_type": "markdown",
   "metadata": {},
   "source": [
    "## surnames"
   ]
  },
  {
   "cell_type": "code",
   "execution_count": 12,
   "metadata": {},
   "outputs": [],
   "source": [
    "file = \"./training_data/invs_nn.jsonl\""
   ]
  },
  {
   "cell_type": "code",
   "execution_count": 13,
   "metadata": {},
   "outputs": [],
   "source": [
    "with open(file) as f:\n",
    "    TRAIN_DATA = f.readlines()"
   ]
  },
  {
   "cell_type": "code",
   "execution_count": 15,
   "metadata": {},
   "outputs": [
    {
     "data": {
      "text/plain": [
       "870"
      ]
     },
     "execution_count": 15,
     "metadata": {},
     "output_type": "execute_result"
    }
   ],
   "source": [
    "train_data = [ast.literal_eval(x) for x in TRAIN_DATA]\n",
    "train_data[4]\n",
    "len(train_data)"
   ]
  },
  {
   "cell_type": "code",
   "execution_count": 17,
   "metadata": {
    "scrolled": true
   },
   "outputs": [
    {
     "name": "stdout",
     "output_type": "stream",
     "text": [
      "Created blank model from 'de'\n",
      "Warning: Unnamed vectors -- this won't allow multiple vectors models to be loaded. (Shape: (0, 0))\n",
      "696 train vs 174 test samples\n",
      "Iteration Number: 0\n",
      "Losses {'ner': 125.3904237483417}\n",
      "Duration: 0:00:34.221088\n",
      "p: 95.51282051282051; f: 91.41104294478527; r: 87.6470588235294\n",
      "Saved model to: data\\names_model_nn\n",
      "######################\n",
      "Iteration Number: 1\n",
      "Losses {'ner': 94.53152456315587}\n",
      "Duration: 0:00:33.249036\n",
      "p: 96.875; f: 93.93939393939394; r: 91.17647058823529\n",
      "Saved model to: data\\names_model_nn\n",
      "######################\n",
      "Iteration Number: 2\n",
      "Losses {'ner': 84.56929500715343}\n",
      "Duration: 0:00:33.850924\n",
      "p: 95.83333333333334; f: 95.26627218934912; r: 94.70588235294117\n",
      "Saved model to: data\\names_model_nn\n",
      "######################\n",
      "Iteration Number: 3\n",
      "Losses {'ner': 81.62599249671561}\n",
      "Duration: 0:00:41.571359\n",
      "p: 94.11764705882352; f: 94.11764705882352; r: 94.11764705882352\n",
      "######################\n",
      "Iteration Number: 4\n",
      "Losses {'ner': 81.00528897516138}\n",
      "Duration: 0:00:42.786487\n",
      "p: 92.57142857142857; f: 93.91304347826087; r: 95.29411764705881\n",
      "######################\n",
      "######################\n",
      "######################\n",
      "######################\n",
      "Overal duration: 0:03:12.246298\n",
      "model with f1 score: 95.26627218934912 saved to location: data\\names_model_nn\n"
     ]
    },
    {
     "data": {
      "text/plain": [
       "<spacy.lang.de.German at 0x1acd1f03630>"
      ]
     },
     "execution_count": 17,
     "metadata": {},
     "output_type": "execute_result"
    }
   ],
   "source": [
    "batch_train(train_data=train_data, output_dir='./data/names_model_nn', new_label='NN', eval_split=0.2, n_iter=5)"
   ]
  },
  {
   "cell_type": "code",
   "execution_count": 18,
   "metadata": {},
   "outputs": [],
   "source": [
    "nlp = spacy.load(r\"./data/names_model_nn\")"
   ]
  },
  {
   "cell_type": "code",
   "execution_count": 19,
   "metadata": {},
   "outputs": [
    {
     "data": {
      "text/plain": [
       "16163"
      ]
     },
     "execution_count": 19,
     "metadata": {},
     "output_type": "execute_result"
    }
   ],
   "source": [
    "no_nn = Person.objects.filter(name=\"\")\n",
    "no_nn.count()"
   ]
  },
  {
   "cell_type": "code",
   "execution_count": 20,
   "metadata": {},
   "outputs": [],
   "source": [
    "for x in Person.objects.all():\n",
    "    doc = nlp(\"{}\".format(x.written_name))\n",
    "    for ent in doc.ents:\n",
    "        if ent.label_ == \"NN\":\n",
    "#             print(ent.text)\n",
    "            x.name = \"{}\".format(ent.text)\n",
    "            break\n",
    "    x.save()"
   ]
  },
  {
   "cell_type": "markdown",
   "metadata": {},
   "source": [
    "# male / female\n",
    "* trained a male category model with prodigy"
   ]
  },
  {
   "cell_type": "code",
   "execution_count": null,
   "metadata": {},
   "outputs": [],
   "source": [
    "# !pip install spacy==2.0.18 --user rita"
   ]
  },
  {
   "cell_type": "code",
   "execution_count": 22,
   "metadata": {},
   "outputs": [],
   "source": [
    "nlp = spacy.load(r\"C:\\Users\\pandorfer\\Documents\\Redmine\\prodigy\\invs\\invs_gender_binary\")"
   ]
  },
  {
   "cell_type": "code",
   "execution_count": 23,
   "metadata": {},
   "outputs": [],
   "source": [
    "for x in Person.objects.all():\n",
    "    try:\n",
    "        doc = nlp(\"{}\".format(x.written_name))\n",
    "    except IndexError:\n",
    "        doc = None\n",
    "    if doc is not None:\n",
    "        if doc.cats['male'] > 0.8:\n",
    "            x.gender=\"männlich\"\n",
    "        else:\n",
    "            x.gender=\"weiblich\"\n",
    "        x.save()\n",
    "    "
   ]
  },
  {
   "cell_type": "code",
   "execution_count": null,
   "metadata": {},
   "outputs": [],
   "source": [
    "x.id"
   ]
  },
  {
   "cell_type": "code",
   "execution_count": null,
   "metadata": {},
   "outputs": [],
   "source": []
  }
 ],
 "metadata": {
  "kernelspec": {
   "display_name": "Django Shell-Plus",
   "language": "python",
   "name": "django_extensions"
  },
  "language_info": {
   "codemirror_mode": {
    "name": "ipython",
    "version": 3
   },
   "file_extension": ".py",
   "mimetype": "text/x-python",
   "name": "python",
   "nbconvert_exporter": "python",
   "pygments_lexer": "ipython3",
   "version": "3.7.3"
  }
 },
 "nbformat": 4,
 "nbformat_minor": 2
}
