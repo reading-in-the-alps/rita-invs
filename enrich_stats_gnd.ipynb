{
 "cells": [
  {
   "cell_type": "code",
   "execution_count": null,
   "metadata": {},
   "outputs": [],
   "source": [
    "[x.save_stats() for x in InventoryEntry.objects.all()]"
   ]
  },
  {
   "cell_type": "code",
   "execution_count": null,
   "metadata": {},
   "outputs": [],
   "source": [
    "for x in Creator.objects.filter(gnd_data__isnull=True):\n",
    "    x.get_lobid_rdf()"
   ]
  },
  {
   "cell_type": "code",
   "execution_count": null,
   "metadata": {},
   "outputs": [],
   "source": [
    "for x in Creator.objects.filter(gnd_data__isnull=False):\n",
    "    death = x.gnd_data.get('dateOfDeath', None)\n",
    "    if death:\n",
    "        death = \"{}-01-01\".format(death[0][:4])\n",
    "        x.gnd_date_of_death = death\n",
    "        try:\n",
    "            x.save()\n",
    "        except Exception as e:\n",
    "            print(\"Error:{}, entity: {}\".format(e, x.id))"
   ]
  },
  {
   "cell_type": "code",
   "execution_count": null,
   "metadata": {},
   "outputs": [],
   "source": [
    "for x in Creator.objects.filter(gnd_data__isnull=False):\n",
    "    places = x.gnd_data.get('geographicAreaCode', [])\n",
    "    places = [x['label'] for x in places]\n",
    "    place_obj = [Place.objects.get_or_create(name=x)[0] for x in places]\n",
    "    x.gnd_geographic_area.set(place_obj)"
   ]
  },
  {
   "cell_type": "code",
   "execution_count": null,
   "metadata": {},
   "outputs": [],
   "source": []
  }
 ],
 "metadata": {
  "kernelspec": {
   "display_name": "Django Shell-Plus",
   "language": "python",
   "name": "django_extensions"
  },
  "language_info": {
   "codemirror_mode": {
    "name": "ipython",
    "version": 3
   },
   "file_extension": ".py",
   "mimetype": "text/x-python",
   "name": "python",
   "nbconvert_exporter": "python",
   "pygments_lexer": "ipython3",
   "version": "3.7.1"
  }
 },
 "nbformat": 4,
 "nbformat_minor": 2
}
