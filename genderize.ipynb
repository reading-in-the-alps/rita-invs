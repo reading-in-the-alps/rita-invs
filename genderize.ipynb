{
 "cells": [
  {
   "cell_type": "markdown",
   "metadata": {},
   "source": [
    "# Genderize\n",
    "\n",
    "* train a binary text classifaction model with label 'male' using prodigy\n",
    "* model name: `invs_gender_binary`\n",
    "* install spacy=2.0.18\n",
    "* run the textclassifier"
   ]
  },
  {
   "cell_type": "code",
   "execution_count": null,
   "metadata": {},
   "outputs": [],
   "source": [
    "# !pip install spacy==2.0.18 --user rita"
   ]
  },
  {
   "cell_type": "code",
   "execution_count": null,
   "metadata": {},
   "outputs": [],
   "source": [
    "import spacy\n",
    "spacy.__version__"
   ]
  },
  {
   "cell_type": "code",
   "execution_count": null,
   "metadata": {},
   "outputs": [],
   "source": [
    "nlp = spacy.load(r\"C:\\Users\\pandorfer\\Documents\\Redmine\\prodigy\\invs\\invs_gender_binary\")"
   ]
  },
  {
   "cell_type": "code",
   "execution_count": null,
   "metadata": {},
   "outputs": [],
   "source": [
    "for x in Person.objects.filter(gender=\"\"):\n",
    "    doc = nlp(\"{}\".format(x.written_name))\n",
    "    if doc.cats['male'] > 0.8:\n",
    "        x.gender=\"männlich\"\n",
    "    else:\n",
    "        x.gender=\"weiblich\"\n",
    "    x.save()"
   ]
  },
  {
   "cell_type": "markdown",
   "metadata": {},
   "source": [
    "### too many false positives\n",
    "* e.g. about 85 Maria XXX tagged as male\n",
    "* other names: Maria, Barbara, Theresa, Anna, Katharina, Magdalena, Getraud, Elisabeth, Ursula"
   ]
  },
  {
   "cell_type": "code",
   "execution_count": 3,
   "metadata": {},
   "outputs": [],
   "source": [
    "false_names = [\n",
    "    \"Maria\", \"Barbara\", \"Theresa\", \"Anna\", \"Katharina\", \"Magdalena\", \"Getraud\",\n",
    "    \"Elisabeth\", \"Ursula\", \"Veronika\", \"Josepha\"\n",
    "]"
   ]
  },
  {
   "cell_type": "code",
   "execution_count": 2,
   "metadata": {},
   "outputs": [
    {
     "data": {
      "text/plain": [
       "11099"
      ]
     },
     "execution_count": 2,
     "metadata": {},
     "output_type": "execute_result"
    }
   ],
   "source": [
    "males = Person.objects.filter(gender='männlich')\n",
    "males.count()"
   ]
  },
  {
   "cell_type": "code",
   "execution_count": 5,
   "metadata": {},
   "outputs": [],
   "source": [
    "false_pos = []\n",
    "for x in males:\n",
    "    for y in false_names:\n",
    "        if x.written_name.startswith(y):\n",
    "            false_pos.append(x)"
   ]
  },
  {
   "cell_type": "code",
   "execution_count": 9,
   "metadata": {},
   "outputs": [
    {
     "data": {
      "text/plain": [
       "193"
      ]
     },
     "execution_count": 9,
     "metadata": {},
     "output_type": "execute_result"
    }
   ],
   "source": [
    "len(set(false_pos))"
   ]
  },
  {
   "cell_type": "code",
   "execution_count": 10,
   "metadata": {},
   "outputs": [],
   "source": [
    "filename = 'false_males.txt'\n",
    "with open(filename, 'w', encoding=\"utf-8\") as f:\n",
    "    for x in false_pos:\n",
    "        f.write(\"{}\".format(x) + '\\n')"
   ]
  },
  {
   "cell_type": "markdown",
   "metadata": {},
   "source": [
    "### annotate and train new model\n",
    "* new model claims accuracy of 100%"
   ]
  },
  {
   "cell_type": "code",
   "execution_count": 11,
   "metadata": {},
   "outputs": [
    {
     "data": {
      "text/plain": [
       "'2.0.18'"
      ]
     },
     "execution_count": 11,
     "metadata": {},
     "output_type": "execute_result"
    }
   ],
   "source": [
    "import spacy\n",
    "spacy.__version__"
   ]
  },
  {
   "cell_type": "code",
   "execution_count": 12,
   "metadata": {},
   "outputs": [],
   "source": [
    "nlp = spacy.load(r\"C:\\Users\\pandorfer\\Documents\\Redmine\\prodigy\\invs\\invs_gender_binary\")"
   ]
  },
  {
   "cell_type": "code",
   "execution_count": 14,
   "metadata": {},
   "outputs": [],
   "source": [
    "for x in Person.objects.all():\n",
    "    doc = nlp(\"{}\".format(x.written_name))\n",
    "    if doc.cats['male'] > 0.8:\n",
    "        x.gender=\"männlich\"\n",
    "    else:\n",
    "        x.gender=\"weiblich\"\n",
    "    x.save()"
   ]
  },
  {
   "cell_type": "code",
   "execution_count": null,
   "metadata": {},
   "outputs": [],
   "source": []
  }
 ],
 "metadata": {
  "kernelspec": {
   "display_name": "Django Shell-Plus",
   "language": "python",
   "name": "django_extensions"
  },
  "language_info": {
   "codemirror_mode": {
    "name": "ipython",
    "version": 3
   },
   "file_extension": ".py",
   "mimetype": "text/x-python",
   "name": "python",
   "nbconvert_exporter": "python",
   "pygments_lexer": "ipython3",
   "version": "3.7.3"
  }
 },
 "nbformat": 4,
 "nbformat_minor": 2
}
