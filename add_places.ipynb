{
 "cells": [
  {
   "cell_type": "markdown",
   "metadata": {},
   "source": [
    "# enriched (main) Persons with Places\n",
    "* write Persons (main) to .txt file\n",
    "* use this file to annotate LOC within prodigy\n",
    "* train a LOC-model\n",
    "* run it and annotate Persons"
   ]
  },
  {
   "cell_type": "code",
   "execution_count": null,
   "metadata": {},
   "outputs": [],
   "source": [
    "import ast\n",
    "import random\n",
    "from spacytei.train import batch_train"
   ]
  },
  {
   "cell_type": "code",
   "execution_count": null,
   "metadata": {},
   "outputs": [],
   "source": [
    "persons = Person.objects.filter(is_main_person__isnull=False)\n",
    "persons.count()"
   ]
  },
  {
   "cell_type": "code",
   "execution_count": null,
   "metadata": {},
   "outputs": [],
   "source": [
    "items = [x.written_name for x in persons]\n",
    "items = sorted(iter(items), key=lambda k: random.random())\n",
    "filename = \"person__main.txt\"\n",
    "with open(filename, 'w', encoding=\"utf-8\") as f:\n",
    "    for x in items:\n",
    "        f.write(\"{}\".format(x) + '\\n')"
   ]
  },
  {
   "cell_type": "code",
   "execution_count": null,
   "metadata": {},
   "outputs": [],
   "source": [
    "file = r\"C:\\Users\\pandorfer\\Documents\\Redmine\\prodigy\\invs\\invs_loc.jsonl\""
   ]
  },
  {
   "cell_type": "code",
   "execution_count": null,
   "metadata": {},
   "outputs": [],
   "source": [
    "with open(file) as f:\n",
    "    TRAIN_DATA = f.readlines()\n",
    "train_data = [ast.literal_eval(x) for x in TRAIN_DATA]\n",
    "print(len(train_data))\n",
    "train_data[4]"
   ]
  },
  {
   "cell_type": "code",
   "execution_count": null,
   "metadata": {},
   "outputs": [],
   "source": [
    "batch_train(train_data=train_data, output_dir='./data/main_loc', new_label='LOC', eval_split=0.2, n_iter=8)"
   ]
  },
  {
   "cell_type": "code",
   "execution_count": null,
   "metadata": {},
   "outputs": [],
   "source": [
    "import spacy"
   ]
  },
  {
   "cell_type": "code",
   "execution_count": null,
   "metadata": {},
   "outputs": [],
   "source": [
    "nlp = spacy.load(r\"./data/main_loc\")"
   ]
  },
  {
   "cell_type": "code",
   "execution_count": null,
   "metadata": {},
   "outputs": [],
   "source": [
    "for x in persons:\n",
    "    doc = nlp(\"{}\".format(x.written_name))\n",
    "    for ent in doc.ents:\n",
    "        if ent.label_ == \"LOC\":\n",
    "            place, _ = Place.objects.get_or_create(\n",
    "                name=\"{}\".format(ent.text)\n",
    "            )\n",
    "            x.belongs_to_place.add(place)\n",
    "            break\n",
    "    x.save()"
   ]
  },
  {
   "cell_type": "code",
   "execution_count": null,
   "metadata": {},
   "outputs": [],
   "source": []
  }
 ],
 "metadata": {
  "kernelspec": {
   "display_name": "Django Shell-Plus",
   "language": "python",
   "name": "django_extensions"
  },
  "language_info": {
   "codemirror_mode": {
    "name": "ipython",
    "version": 3
   },
   "file_extension": ".py",
   "mimetype": "text/x-python",
   "name": "python",
   "nbconvert_exporter": "python",
   "pygments_lexer": "ipython3",
   "version": "3.7.3"
  }
 },
 "nbformat": 4,
 "nbformat_minor": 2
}
